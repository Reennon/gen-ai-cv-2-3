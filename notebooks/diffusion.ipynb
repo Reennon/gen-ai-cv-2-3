{
 "cells": [
  {
   "cell_type": "markdown",
   "source": [
    "# Diffusion Training and Experimentation\n",
    "\n",
    "This notebook demonstrates training Diffusion model on the MNIST dataset using a modular training pipeline implemented in PyTorch Lightning.\n"
   ],
   "metadata": {
    "collapsed": false
   }
  },
  {
   "cell_type": "code",
   "execution_count": null,
   "outputs": [],
   "source": [
    "!git clone https://github.com/Reennon/gen-ai-cv-lab-2-3.git\n",
    "%cd gen-ai-cv-lab-2-3"
   ],
   "metadata": {
    "collapsed": false
   }
  },
  {
   "cell_type": "code",
   "execution_count": null,
   "outputs": [],
   "source": [
    "!pip install -r requirements.txt"
   ],
   "metadata": {
    "collapsed": false
   }
  },
  {
   "cell_type": "code",
   "execution_count": null,
   "outputs": [],
   "source": [
    "!git pull"
   ],
   "metadata": {
    "collapsed": false
   }
  },
  {
   "cell_type": "code",
   "execution_count": null,
   "outputs": [],
   "source": [
    "import os\n",
    "import dotenv\n",
    "import wandb\n",
    "import torch\n",
    "\n",
    "from omegaconf import OmegaConf\n",
    "from torch.utils.data import DataLoader\n",
    "from torchvision.datasets import MNIST\n",
    "from torchvision import transforms\n",
    "from src.training.diffusion_module import DiffusionLitModule\n",
    "from src.training.trainer import train_model\n",
    "\n",
    "from google.colab import userdata"
   ],
   "metadata": {
    "collapsed": false
   }
  },
  {
   "cell_type": "code",
   "execution_count": null,
   "outputs": [],
   "source": [
    "os.environ[\"WANDB_KEY\"] = userdata.get(\"wandb_key\")\n",
    "!echo $WANDB_KEY >> .env"
   ],
   "metadata": {
    "collapsed": false
   }
  },
  {
   "cell_type": "code",
   "execution_count": null,
   "outputs": [],
   "source": [
    "dotenv.load_dotenv()"
   ],
   "metadata": {
    "collapsed": false
   }
  },
  {
   "cell_type": "code",
   "execution_count": null,
   "outputs": [],
   "source": [
    "parameters = OmegaConf.load(\"./params/diffusion.yml\")\n",
    "wandb.login(key=os.environ[\"WANDB_KEY\"])"
   ],
   "metadata": {
    "collapsed": false
   }
  },
  {
   "cell_type": "code",
   "execution_count": null,
   "outputs": [],
   "source": [
    "wandb_project_name = \"diffusion-mnist\"\n",
    "device = \"gpu\""
   ],
   "metadata": {
    "collapsed": false
   }
  },
  {
   "cell_type": "code",
   "execution_count": null,
   "outputs": [],
   "source": [
    "# Prepare the MNIST dataset.\n",
    "transform = transforms.Compose([\n",
    "    transforms.ToTensor(),\n",
    "    transforms.Normalize((0.5,), (0.5,))\n",
    "])\n",
    "mnist_train = MNIST(root='data', train=True, download=True, transform=transform)\n",
    "mnist_val = MNIST(root='data', train=False, download=True, transform=transform)\n",
    "train_loader = DataLoader(mnist_train, batch_size=64, shuffle=True)\n",
    "val_loader = DataLoader(mnist_val, batch_size=64)\n"
   ],
   "metadata": {
    "collapsed": false
   }
  },
  {
   "cell_type": "code",
   "execution_count": null,
   "outputs": [],
   "source": [
    "hparams = parameters.hyperparameters"
   ],
   "metadata": {
    "collapsed": false
   }
  },
  {
   "cell_type": "code",
   "execution_count": null,
   "outputs": [],
   "source": [
    "model = train_model(DiffusionLitModule, hparams, train_loader, val_loader)"
   ],
   "metadata": {
    "collapsed": false
   }
  },
  {
   "cell_type": "code",
   "execution_count": null,
   "outputs": [],
   "source": [
    "# generate and visualize samples using DDIM.\n",
    "\n",
    "samples = model.sample_ddim(num_steps=50, eta=0.0, shape=(16, 1, 28, 28))\n",
    "import matplotlib.pyplot as plt\n",
    "fig, axs = plt.subplots(4, 4, figsize=(6,6))\n",
    "for i, ax in enumerate(axs.flatten()):\n",
    "    img = (samples[i, 0].cpu().numpy() + 1) / 2.0  # Rescale from [-1,1] to [0,1]\n",
    "    ax.imshow(img, cmap='gray')\n",
    "    ax.axis('off')\n",
    "plt.tight_layout()\n",
    "plt.show()"
   ],
   "metadata": {
    "collapsed": false
   }
  },
  {
   "cell_type": "code",
   "execution_count": null,
   "outputs": [],
   "source": [
    "wandb.finish()"
   ],
   "metadata": {
    "collapsed": false
   }
  }
 ],
 "metadata": {
  "kernelspec": {
   "display_name": "Python 3",
   "language": "python",
   "name": "python3"
  },
  "language_info": {
   "codemirror_mode": {
    "name": "ipython",
    "version": 2
   },
   "file_extension": ".py",
   "mimetype": "text/x-python",
   "name": "python",
   "nbconvert_exporter": "python",
   "pygments_lexer": "ipython2",
   "version": "2.7.6"
  }
 },
 "nbformat": 4,
 "nbformat_minor": 0
}
